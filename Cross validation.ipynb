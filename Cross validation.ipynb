{
 "cells": [
  {
   "cell_type": "markdown",
   "metadata": {},
   "source": [
    "# Make a cv loop that returns the average training and cv error and bias\n",
    "## Requirments\n",
    "### Easily incorporated into my tunnel organising the T data\n"
   ]
  },
  {
   "cell_type": "markdown",
   "metadata": {},
   "source": [
    "#### The  function takes as input the \n",
    "data with an 'actual sales' column and a 'forecast sales' column\n",
    "\n",
    "#### it returns, for training and test data\n",
    "print outs of bias and error   \n",
    "my tracker with bias and error info appended"
   ]
  },
  {
   "cell_type": "markdown",
   "metadata": {},
   "source": [
    "#### My 'evaluate' function takes as input the \n",
    "model   \n",
    "training/test data (with all features)  \n",
    "column names for features used in the model   \n",
    "target data   \n",
    "\n",
    "#### it returns, for training and test data\n",
    "print outs of bias and error   \n",
    "my tracker with bias and error info appended"
   ]
  },
  {
   "cell_type": "code",
   "execution_count": 21,
   "metadata": {
    "collapsed": true
   },
   "outputs": [],
   "source": [
    "import pandas as pd\n",
    "import numpy as np"
   ]
  },
  {
   "cell_type": "code",
   "execution_count": 13,
   "metadata": {
    "collapsed": false
   },
   "outputs": [],
   "source": [
    "evaluation_table = pd.DataFrame(columns=['Model','Train error', 'CV error', 'CV bias'])"
   ]
  },
  {
   "cell_type": "code",
   "execution_count": 26,
   "metadata": {
    "collapsed": false
   },
   "outputs": [
    {
     "ename": "SyntaxError",
     "evalue": "invalid syntax (<ipython-input-26-e0f4d3e0e467>, line 2)",
     "output_type": "error",
     "traceback": [
      "\u001b[0;36m  File \u001b[0;32m\"<ipython-input-26-e0f4d3e0e467>\"\u001b[0;36m, line \u001b[0;32m2\u001b[0m\n\u001b[0;31m    find_train_error = True,\u001b[0m\n\u001b[0m                   ^\u001b[0m\n\u001b[0;31mSyntaxError\u001b[0m\u001b[0;31m:\u001b[0m invalid syntax\n"
     ]
    }
   ],
   "source": [
    "def cv_model(model, model_name, data, features, k, df = evaluation_table\n",
    "             find_train_error = True,\n",
    "             find_best_error = True, find_bias = True):\n",
    "    '''Returns df appended with the average training error and k-fold cross-validation error of model. \n",
    "    Only the columns in features are used to train model.\n",
    "    Prints performance metrics relating to model's performance on the training data and during cross-validation.'''\n",
    "    \n",
    "    # Initalise sums for bias, error, best_error for training, validation\n",
    "    sum_bias_train = 0\n",
    "    sum_error_train = 0\n",
    "    sum_best_train = 0\n",
    "\n",
    "    sum_bias_cv = 0\n",
    "    sum_error_cv = 0\n",
    "    sum_best_cv = 0\n",
    "    \n",
    "    # Count number of data points\n",
    "    n = data.shape[0]\n",
    "\n",
    "    # For each cross-validation set\n",
    "    for i in range(k):    \n",
    "        ## Define training and validation sets\n",
    "        train = data[0:n*i//k].copy()\n",
    "        train = train.append(data[n*(i+1)//k:])\n",
    "        val = data[n*i//k:n*(i+1)//k].copy()\n",
    "        ## Train the model on the training set\n",
    "        model.fit(train[features], train['adjusted_sales_singles'])\n",
    "\n",
    "        ## Calculate bias, error on the training set\n",
    "        if find_train_error:\n",
    "            train['forecast_sales'] = model.predict(train[features])\n",
    "            data_modified = aggregate_slow_sellers(data_modified)\n",
    "\n",
    "            metrics = forecast_score(train, find_best_error, find_bias)\n",
    "            ## Add to training sums\n",
    "            sum_bias_train += metrics[1]\n",
    "            sum_error_train += metrics[2]\n",
    "            sum_best_train += metrics[3]\n",
    "\n",
    "        ## Calculate bias, error on the validation set\n",
    "        val['forecast_sales'] = model.predict(val[features])\n",
    "        metrics = forecast_score(val, find_best_error, find_bias)\n",
    "        ## Add to cv sum\n",
    "        sum_bias_cv += metrics[1]\n",
    "        sum_error_cv += metrics[2]\n",
    "        sum_best_cv += metrics[3]\n",
    "\n",
    "    # Calculate average bias, error on training, validation\n",
    "    av_bias_train = sum_bias_train/k\n",
    "    av_error_train = sum_error_train/k\n",
    "    av_best_train = sum_best_train/k\n",
    "\n",
    "    av_bias_cv = sum_bias_cv/k\n",
    "    av_error_cv = sum_error_cv/k\n",
    "    av_best_cv = sum_best_cv/k    \n",
    "    \n",
    "    # Print results for training, validation\n",
    "    if find_train_error:\n",
    "        print ('Performance on training data:')\n",
    "        print ('Lowest possible error: ', av_best_train)\n",
    "        print ('Error: ', av_error_train)\n",
    "        print ('Bias: ', av_error_train, '\\n')\n",
    "\n",
    "    print ('Performance during cross-validation:')\n",
    "    print ('Lowest possible error: ', av_best_cv)\n",
    "    print ('Error: ', av_error_cv)\n",
    "    print ('Bias: ', av_error_cv)    \n",
    "    \n",
    "    # Return tracker appended with bias and error info\n",
    "    if not find_train_error:\n",
    "        av_error_train = np.NaN\n",
    "    return df.append({'Model': model_name, \n",
    "                                    'Train error': av_error_train,\n",
    "                                    'CV error': av_error_cv,\n",
    "                                    'CV bias': av_bias_cv}, ignore_index = True)"
   ]
  },
  {
   "cell_type": "code",
   "execution_count": 16,
   "metadata": {
    "collapsed": false
   },
   "outputs": [],
   "source": [
    "def aggregate_slow_sellers(data_frame, cols={'actual_sales': 'adjusted_sales_singles', \n",
    "                                             'forecast_sales': 'forecast_sales', \n",
    "                                             'base_product_number': 'base_product_number', \n",
    "                                             'calendar_date': 'calendar_date', \n",
    "                                             'retail_outlet_number': 'retail_outlet_number'}):\n",
    "    \"\"\"Aggregate the forecast for days with zero sales\n",
    "    \n",
    "    Args:\n",
    "        data_frame - pandas DataFrame with actual and forecast sales.\n",
    "        cols - dictionary of column name mapping:\n",
    "            * cols['actual_sales'] = the column containing actual sales for the store, day, product\n",
    "            * cols['forecast_sales'] = the column containing forecast sales for the store, day, product\n",
    "            * cols['base_product_number'] = the column containing the product number\n",
    "            * cols['calendar_date'] = the column contianing the date\n",
    "            * cols['retail_outlet_number'] = the column containing the retail outlet number\n",
    "    \n",
    "    Return\n",
    "        data_frame - with the forecast for days with zero sales carried forward\n",
    "    \"\"\"\n",
    "    df_work = data_frame.copy()\n",
    "    df_work = df_work.sort_values([cols['base_product_number'], \n",
    "                                   cols['retail_outlet_number'], \n",
    "                                   cols['calendar_date']]).reset_index(drop=True)\n",
    "    \n",
    "    df_work['carry_over'] = 0.0\n",
    "    \n",
    "    # iterate\n",
    "    last_store = df_work.at[0, cols['retail_outlet_number']]\n",
    "    last_product = df_work.at[0, cols['base_product_number']]\n",
    "    carry_over = 0.0\n",
    "    \n",
    "    for i in range(len(df_work)):\n",
    "        current_store = df_work.at[i, cols['retail_outlet_number']]\n",
    "        current_product = df_work.at[i, cols['base_product_number']]\n",
    "        current_sales = df_work.at[i, cols['actual_sales']]\n",
    "        current_forecast = df_work.at[i, cols['forecast_sales']]\n",
    "        \n",
    "        # different product/store so reset\n",
    "        if current_store != last_store or current_product != last_product:\n",
    "            carry_over = 0.0\n",
    "        \n",
    "        carry_over += current_forecast\n",
    "        df_work.at[i, 'carry_over'] = carry_over\n",
    "\n",
    "        # if we sold something reset\n",
    "        if current_sales > 0.0:\n",
    "            carry_over = 0.0\n",
    "            \n",
    "        last_store = current_store\n",
    "        last_product = current_product\n",
    "    \n",
    "    # the forecast sales are now the carry over\n",
    "    df_work[cols['forecast_sales']] = df_work['carry_over']\n",
    "    # drop carry_over column and days with no sales\n",
    "    df_work = df_work.drop('carry_over', axis=1)\n",
    "    df_work = df_work[df_work[cols['actual_sales']] != 0]\n",
    "    \n",
    "    return df_work"
   ]
  },
  {
   "cell_type": "code",
   "execution_count": 19,
   "metadata": {
    "collapsed": false
   },
   "outputs": [],
   "source": [
    "def forecast_score(data_frame, find_best_error = True, find_bias = True,\n",
    "                   cols={'actual_sales': 'adjusted_sales_singles', \n",
    "                                     'forecast_sales': 'forecast_sales'}):\n",
    "    \"\"\"\n",
    "    Args\n",
    "        data_frame - pandas DataFrame with actual and forecast sales\n",
    "        cols - dictionary of column name mapping:\n",
    "            * cols['actual_sales'] = the column containing actual sales for the store, day, product\n",
    "            * cols['forecast_sales'] = the column containing forecast sales for the store, day, product\n",
    "    Return\n",
    "        Total sales, bias, forecast error, Best Error\n",
    "    \"\"\"\n",
    "    \n",
    "    total_sales = data_frame[cols['actual_sales']].sum()\n",
    "    \n",
    "    \n",
    "    forecast_error = np.sum((np.abs(data_frame[cols['forecast_sales']] \n",
    "                                    - data_frame[cols['actual_sales']]))) / total_sales\n",
    "        \n",
    "    if find_bias:\n",
    "        bias =  np.sum((data_frame[cols['actual_sales']] \n",
    "                    - data_frame[cols['forecast_sales']])) / total_sales\n",
    "    else:\n",
    "        bias = 'Bias not calculated'\n",
    "    \n",
    "    if find_best_error:\n",
    "        best_error = np.sum(0.8 * np.sqrt(data_frame[cols['actual_sales']])) / total_sales\n",
    "    else:\n",
    "        best_error = 'Best error not calculated'\n",
    "    \n",
    "    return total_sales, bias, forecast_error, best_error"
   ]
  },
  {
   "cell_type": "code",
   "execution_count": 22,
   "metadata": {
    "collapsed": false
   },
   "outputs": [
    {
     "data": {
      "text/plain": [
       "nan"
      ]
     },
     "execution_count": 22,
     "metadata": {},
     "output_type": "execute_result"
    }
   ],
   "source": [
    "np.NaN"
   ]
  },
  {
   "cell_type": "code",
   "execution_count": 24,
   "metadata": {
    "collapsed": false
   },
   "outputs": [
    {
     "data": {
      "text/html": [
       "<div>\n",
       "<style>\n",
       "    .dataframe thead tr:only-child th {\n",
       "        text-align: right;\n",
       "    }\n",
       "\n",
       "    .dataframe thead th {\n",
       "        text-align: left;\n",
       "    }\n",
       "\n",
       "    .dataframe tbody tr th {\n",
       "        vertical-align: top;\n",
       "    }\n",
       "</style>\n",
       "<table border=\"1\" class=\"dataframe\">\n",
       "  <thead>\n",
       "    <tr style=\"text-align: right;\">\n",
       "      <th></th>\n",
       "      <th>Model</th>\n",
       "      <th>Train error</th>\n",
       "      <th>CV error</th>\n",
       "      <th>CV bias</th>\n",
       "    </tr>\n",
       "  </thead>\n",
       "  <tbody>\n",
       "    <tr>\n",
       "      <th>0</th>\n",
       "      <td>NaN</td>\n",
       "      <td>NaN</td>\n",
       "      <td>NaN</td>\n",
       "      <td>NaN</td>\n",
       "    </tr>\n",
       "  </tbody>\n",
       "</table>\n",
       "</div>"
      ],
      "text/plain": [
       "  Model Train error CV error CV bias\n",
       "0   NaN         NaN      NaN     NaN"
      ]
     },
     "execution_count": 24,
     "metadata": {},
     "output_type": "execute_result"
    }
   ],
   "source": [
    "evaluation_table.append({'Model': np.NaN, \n",
    "                                    'Train error': np.NaN,\n",
    "                                    'CV error': np.NaN,\n",
    "                                    'CV bias': np.NaN}, ignore_index = True)"
   ]
  },
  {
   "cell_type": "code",
   "execution_count": 27,
   "metadata": {
    "collapsed": true
   },
   "outputs": [],
   "source": [
    "def f(x=1, y=1, z=1):\n",
    "    return x*y*z"
   ]
  },
  {
   "cell_type": "code",
   "execution_count": 29,
   "metadata": {
    "collapsed": false
   },
   "outputs": [
    {
     "data": {
      "text/plain": [
       "5"
      ]
     },
     "execution_count": 29,
     "metadata": {},
     "output_type": "execute_result"
    }
   ],
   "source": [
    "f(5)"
   ]
  },
  {
   "cell_type": "code",
   "execution_count": 31,
   "metadata": {
    "collapsed": false
   },
   "outputs": [
    {
     "data": {
      "text/plain": [
       "28"
      ]
     },
     "execution_count": 31,
     "metadata": {},
     "output_type": "execute_result"
    }
   ],
   "source": [
    "f(7,2,2)"
   ]
  },
  {
   "cell_type": "code",
   "execution_count": null,
   "metadata": {
    "collapsed": true
   },
   "outputs": [],
   "source": []
  }
 ],
 "metadata": {
  "kernelspec": {
   "display_name": "Python 2",
   "language": "python",
   "name": "python2"
  },
  "language_info": {
   "codemirror_mode": {
    "name": "ipython",
    "version": 2
   },
   "file_extension": ".py",
   "mimetype": "text/x-python",
   "name": "python",
   "nbconvert_exporter": "python",
   "pygments_lexer": "ipython2",
   "version": "2.7.11"
  }
 },
 "nbformat": 4,
 "nbformat_minor": 0
}
